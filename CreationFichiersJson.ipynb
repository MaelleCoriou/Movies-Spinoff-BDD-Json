{
 "cells": [
  {
   "cell_type": "markdown",
   "metadata": {},
   "source": [
    "### CREATION FICHIER JSON MOVIES DEPUIS FICHIER CSV SCRIPT PYTHON"
   ]
  },
  {
   "cell_type": "code",
   "execution_count": 1,
   "metadata": {},
   "outputs": [],
   "source": [
    "import json\n",
    "import csv"
   ]
  },
  {
   "cell_type": "code",
   "execution_count": 2,
   "metadata": {},
   "outputs": [],
   "source": [
    "# fonction pour convertr le fichier format Csv en format Json \n",
    "# Les arguments sont les chemins des fichiers\n",
    "def make_json(csvFilePath, jsonFilePath): \n",
    "      \n",
    "    # creation d'un dictionnaire\n",
    "    data = {}\n",
    "      \n",
    "    # Ouvre le csv reader appelé DictReader \n",
    "    with open(csvFilePath, encoding='utf-8') as csvf: \n",
    "        csvReader = csv.DictReader(csvf) \n",
    "          \n",
    "        # insertion de chaque ligne dans le dictionnaire data \n",
    "        for rows in csvReader: \n",
    "              \n",
    "            # La colonne movieID\n",
    "            # est la clé primaire \n",
    "            key = rows['movieId'] \n",
    "            data[key] = rows \n",
    "  \n",
    "    # Ouvre le json writer, utilisant la méthode json.dumps()  \n",
    "    # à la fonction data \n",
    "    with open(jsonFilePath, 'w', encoding='utf-8') as jsonf: \n",
    "        jsonf.write(json.dumps(data, indent=4)) \n",
    "          \n",
    "# Chemin d'accès local aux fichiers\n",
    "csvFilePath = r'Data/movies.csv'\n",
    "jsonFilePath = r'BDDMovies.json'\n",
    "  \n",
    "# Appelle de la fonction make_json \n",
    "make_json(csvFilePath, jsonFilePath)"
   ]
  },
  {
   "cell_type": "markdown",
   "metadata": {},
   "source": [
    "### CREATION FICHIER JSON RATINGS DEPUIS FICHIER CSV"
   ]
  },
  {
   "cell_type": "code",
   "execution_count": 3,
   "metadata": {},
   "outputs": [],
   "source": [
    "def make_json(csvFile, jsonFile):\n",
    "    data = []\n",
    "    with open(csvFile, encoding='utf-8') as csvFile:\n",
    "        reader = csv.DictReader(csvFile)\n",
    "        for row in reader:\n",
    "            data.append(row)\n",
    "\n",
    "    with open(jsonFile, 'w') as jsonFile:\n",
    "        jsonFile.write(json.dumps(data, indent=4))\n",
    "\n",
    "csvFile = 'data/ratings.csv'\n",
    "jsonFile = 'BDDRatings.json'\n",
    "\n",
    "make_json(csvFile, jsonFile)"
   ]
  },
  {
   "cell_type": "code",
   "execution_count": null,
   "metadata": {},
   "outputs": [],
   "source": []
  }
 ],
 "metadata": {
  "kernelspec": {
   "display_name": "Python 3",
   "language": "python",
   "name": "python3"
  },
  "language_info": {
   "codemirror_mode": {
    "name": "ipython",
    "version": 3
   },
   "file_extension": ".py",
   "mimetype": "text/x-python",
   "name": "python",
   "nbconvert_exporter": "python",
   "pygments_lexer": "ipython3",
   "version": "3.8.6"
  }
 },
 "nbformat": 4,
 "nbformat_minor": 4
}
